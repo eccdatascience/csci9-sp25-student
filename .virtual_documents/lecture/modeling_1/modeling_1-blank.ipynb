


from dsc80_utils import *
import plotly.io as pio
pio.renderers.default = 'iframe'



























































# The dataset is built into plotly!
tips = px.data.tips()
tips














# Scatter plot of Total Bill vs Tip
fig = tips.plot(kind='scatter', x='total_bill', y='tip', title='Tip vs. Total Bill')
fig.update_layout(xaxis_title='Total Bill', yaxis_title='Tip')


# Distribution of Total Bill
tips.plot(kind='hist',
          x='total_bill',
          title='Distribution of Total Bill',
          nbins=50,
          template='seaborn')


# Distribution of Tip
tips.plot(kind='hist',
           x ='tip',
           title='Distribution of Tip',
           nbins=50,
           template='seaborn')























fig = tips.plot(kind='hist', x='tip', title='Distribution of Tip', nbins=20)
fig.update_layout(xaxis_title='Tip', yaxis_title='Frequency')











mean_tip = tips['tip'].mean()
mean_tip








fig = px.scatter(tips, x='total_bill', y='tip')
fig.add_hline(mean_tip, line_width=3, line_color='orange', opacity=1)
fig.update_layout(title='Tip vs. Total Bill',
                  xaxis_title='Total Bill', yaxis_title='Tip')














np.mean((tips['tip'] - mean_tip) ** 2)


# The same!
np.var(tips['tip'])














def rmse(actual, pred):
    return np.sqrt(np.mean((actual - pred) ** 2))





rmse(tips['tip'], mean_tip)


rmse_dict = {}
rmse_dict['constant tip amount'] = rmse(tips['tip'], mean_tip)
rmse_dict











tips.head()












































# Import LinearRegression
...





# Show LinearRegression documentation
...








# Instantiate model
model = ...

# Fit model
# Note that there are two arguments to fit – X and y!
# (It is not necessary to write X= and y=)
...





# Access intercept and coefficients
...














line_pts = pd.DataFrame({'total_bill': [0, 60]})

fig = px.scatter(tips, x='total_bill', y='tip')
fig.add_trace(go.Scatter(
    x=line_pts['total_bill'],
    y=[mean_tip, mean_tip],
    mode='lines',
    name='Constant Model (Mean Tip)'
))
fig.add_trace(go.Scatter(
    x=line_pts['total_bill'],
    y=model.predict(line_pts),
    mode='lines',
    name='Linear Model: Total Bill Only'
))
fig.update_layout(title='Tip vs. Total Bill',
                  xaxis_title='Total Bill', 
                  yaxis_title='Tip')








# Make a single prediction
...


# Make multiple predictions at once
...


# An easier way to implement multiple predictions at once
...


# Since we trained on a DataFrame, the input to model.predict should also
# be a DataFrame. To avoid having to do this, we can use .to_numpy()
# when specifying X= and y=.
test_points = ...
...





# Predict on entire x column from DataFrame
all_preds = ...


# Calculate RMSE and add to dictionary
...
rmse_dict











tips.head()








# Instantiate model and fit
model_two = ...
...


# Access intercept and coefficients
...


# Test points from DataFrame, then predict
...








XX, YY = np.mgrid[0:50:2, 0:8:1]
Z = model_two.intercept_ + model_two.coef_[0] * XX + model_two.coef_[1] * YY
plane = go.Surface(x=XX, y=YY, z=Z, colorscale='Oranges')

fig = go.Figure(data=[plane])
fig.add_trace(go.Scatter3d(x=tips['total_bill'], 
                           y=tips['size'], 
                           z=tips['tip'], mode='markers', marker = {'color': '#656DF1'}))

fig.update_layout(scene=dict(xaxis_title='Total Bill',
                             yaxis_title='Table Size',
                             zaxis_title='Tip'),
                  title='Tip vs. Total Bill and Table Size',
                  width=500, height=500)





# Calculate RMSE and add to dictionary
...
rmse_dict











# Let's start with the single-variable model:
with_resid = tips.assign(**{
    'Predicted Tip': model.predict(tips[['total_bill']]),
    'Residual': tips['tip'] - model.predict(tips[['total_bill']]),
})
fig = px.scatter(with_resid, x='Predicted Tip', y='Residual')
fig.add_hline(0, line_width=2, opacity=1).update_layout(title='Residual Plot (Simple Linear Model)')








# What about the two-variable model?
with_resid = tips.assign(**{
    'Predicted Tip': model_two.predict(tips[['total_bill', 'size']]),
    'Residual': tips['tip'] - model_two.predict(tips[['total_bill', 'size']]),
})
fig = px.scatter(with_resid, x='Predicted Tip', y='Residual')
fig.add_hline(0, line_width=2, opacity=1).update_layout(title='Residual Plot (Multiple Regression)')








# Score
...

















tips.head()



