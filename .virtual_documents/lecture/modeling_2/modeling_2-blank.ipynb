from dsc80_utils import *


# The dataset is built into plotly (and seaborn)!
# We shuffle here so that the head of the DataFrame contains rows where smoker is Yes and smoker is No,
# purely for illustration purposes (it doesn't change any of the math).
np.random.seed(1)
tips = px.data.tips().sample(frac=1).reset_index(drop=True)








tips








mean_tip = tips['tip'].mean()





from sklearn.linear_model import LinearRegression

model = LinearRegression()
model.fit(X=tips[['total_bill']], y=tips['tip'])

model_two = LinearRegression()
model_two.fit(X=tips[['total_bill', 'size']], y=tips['tip'])





def rmse(actual, pred):
    return np.sqrt(np.mean((actual - pred) ** 2))

rmse_dict = {}
rmse_dict['constant tip amount'] = rmse(tips['tip'], mean_tip)

all_preds = model.predict(tips[['total_bill']])
rmse_dict['one feature: total bill'] = rmse(tips['tip'], all_preds)

rmse_dict['two features'] = rmse(
    tips['tip'], model_two.predict(tips[['total_bill', 'size']])
)
rmse_dict





model_two.score(tips[['total_bill', 'size']], tips['tip'])


























pred = tips.assign(predicted=model_two.predict(tips[['total_bill', 'size']]))
pred





np.var(pred['predicted']) / np.var(pred['tip'])





pred.corr().loc['predicted', 'tip'] ** 2





model_two.score(tips[['total_bill', 'size']], tips['tip'])








1 - rmse(pred['tip'], pred['predicted']) ** 2 / np.var(pred['tip'])





tips.head()









































tips.head()


tips['smoker'].value_counts()


(tips['smoker'] == 'Yes').astype(int).head()


for val in tips['smoker'].unique():
    tips[f'smoker == {val}'] = (tips['smoker'] == val).astype(int)


tips.head()








model_three = LinearRegression()
model_three.fit(tips[['total_bill', 'size', 'smoker == Yes']], tips['tip'])





model_three.intercept_, model_three.coef_




















# pio.renderers.default = 'plotly_mimetype+notebook' # If it doesn't render, try uncommenting this.

XX, YY = np.mgrid[0:50:2, 0:8:1]
Z_0 = model_three.intercept_ + model_three.coef_[0] * XX + model_three.coef_[1] * YY + model_three.coef_[2] * 0
Z_1 = model_three.intercept_ + model_three.coef_[0] * XX + model_three.coef_[1] * YY + model_three.coef_[2] * 1
plane_0 = go.Surface(x=XX, y=YY, z=Z_0, colorscale='Greens')
plane_1 = go.Surface(x=XX, y=YY, z=Z_1, colorscale='Purples')

fig = go.Figure(data=[plane_0, plane_1])

tips_0 = tips[tips['smoker'] == 'No']
tips_1 = tips[tips['smoker'] == 'Yes']

fig.add_trace(go.Scatter3d(x=tips_0['total_bill'], 
                           y=tips_0['size'], 
                           z=tips_0['tip'], mode='markers', marker = {'color': 'green'}))

fig.add_trace(go.Scatter3d(x=tips_1['total_bill'], 
                           y=tips_1['size'], 
                           z=tips_1['tip'], mode='markers', marker = {'color': 'purple'}))

fig.update_layout(scene = dict(
    xaxis_title='Total Bill',
    yaxis_title='Table Size',
    zaxis_title='Tip'),
  title='Tip vs. Total Bill and Table Size (Green = Non-Smoking Section, Purple = Smoking Section)',
    width=1000, height=800,
    showlegend=False)





fig = go.Figure()
fig.add_trace(go.Scatter(x=tips['total_bill'], y=tips['tip'], 
                         mode='markers', name='Original Data'))
fig.add_trace(go.Scatter(x=tips['total_bill'], y=model_three.predict(tips[['total_bill', 'size', 'smoker == Yes']]), 
                         mode='markers', name='Predicted Tips using Total Bill, <br>Table Size, and Smoker Status'))

fig.update_layout(showlegend=True, title='Tip vs. Total Bill',
                  xaxis_title='Total Bill', yaxis_title='Tip')








rmse_dict['three features'] = rmse(tips['tip'], 
                                   model_three.predict(tips[['total_bill', 'size', 'smoker == Yes']]))
rmse_dict








tips.head()





















































ordinal_enc = {
    '✩': 1,
    '✩✩': 2,
    '✩✩✩': 3,
    '✩✩✩✩': 4,
    '✩✩✩✩✩': 5,
}
ordinal_enc


ratings = pd.DataFrame().assign(RATING=['✩', '✩✩', '✩✩✩', '✩✩', '✩✩✩', '✩', '✩✩✩', '✩✩✩✩', '✩✩✩✩✩'])
ratings


ratings.replace(ordinal_enc)




















mpg = sns.load_dataset('mpg').dropna()
mpg.head()





mpg['model_year'].value_counts()








px.scatter(mpg, x='horsepower', y='mpg')











car_model = LinearRegression()
car_model.fit(mpg[['horsepower']], mpg['mpg'])





hp_points = pd.DataFrame({'horsepower': [25, 225]})
fig = px.scatter(mpg, x='horsepower', y='mpg')
fig.add_trace(go.Scatter(
    x=hp_points['horsepower'],
    y=car_model.predict(hp_points),
    mode='lines',
    name='Predicted MPG using Horsepower'
))





res = mpg.assign(
    Predictions=car_model.predict(mpg[['horsepower']]),
    Residuals=mpg['mpg'] - car_model.predict(mpg[['horsepower']]),
)
fig = px.scatter(res, x='Predictions', y='Residuals')
fig.add_hline(0, line_width=3, opacity=1)


car_model.score(mpg[['horsepower']], mpg['mpg'])








mpg['log hp'] = np.log(mpg['horsepower'])





px.scatter(mpg, x='log hp', y='mpg')





car_model_log = LinearRegression()
car_model_log.fit(mpg[['log hp']], mpg['mpg'])





fig = px.scatter(mpg, x='log hp', y='mpg')
log_hp_points = pd.DataFrame({'log hp': [3.7, 5.5]})
fig = px.scatter(mpg, x='log hp', y='mpg')
fig.add_trace(go.Scatter(
    x=log_hp_points['log hp'],
    y=car_model_log.predict(log_hp_points),
    mode='lines',
    name='Predicted MPG using log(Horsepower)'
))





car_model_log.score(mpg[['log hp']], mpg['mpg'])








fig = px.scatter(mpg, x='horsepower', y='mpg')
fig.add_trace(
    go.Scatter(
        x=mpg['horsepower'], 
        y=car_model_log.intercept_ + car_model_log.coef_[0] * np.log(mpg['horsepower']),  
        mode='markers', name='Predicted MPG using log(Horsepower)'
    )
)
fig





car_model_log.intercept_, car_model_log.coef_






























































tips.head()








from sklearn.preprocessing import Binarizer





tips['total_bill'].head()





bi = Binarizer(threshold=20)





transformed_bills = bi.transform(tips[['total_bill']]) # Must give transform a 2D array/DataFrame.
transformed_bills[:5]




















tips_quant = tips[['total_bill', 'size']]
tips_quant.head()





from sklearn.preprocessing import StandardScaler


stdscaler = StandardScaler()





stdscaler.transform(tips_quant)





# This is like saying "determine the mean and SD of each column in tips_quant".
stdscaler.fit(tips_quant)





# First column is 'total_bill', second column is 'size'.
tips_quant_z = stdscaler.transform(tips_quant)
tips_quant_z[:5]





stdscaler.mean_


stdscaler.var_





stdscaler.transform(tips_quant.sample(5))





stdscaler.fit_transform(tips_quant)








tips_cat = tips[['sex', 'smoker', 'day', 'time']]
tips_cat.head()





from sklearn.preprocessing import OneHotEncoder


ohe = OneHotEncoder()
ohe.fit(tips_cat)





ohe.transform(tips_cat)





ohe.transform(tips_cat).toarray()





ohe.get_feature_names_out() # x0, x1, x2, and x3 correspond to column names in tips_cat.


pd.DataFrame(ohe.transform(tips_cat).toarray(), 
             columns=ohe.get_feature_names_out()) # If we need a DataFrame back, for some reason.





























tips_cat = tips[['sex', 'smoker', 'day', 'time']]
tips_cat.head()


from sklearn.pipeline import Pipeline


pl = Pipeline([
    ('one-hot', OneHotEncoder()),
    ('lin-reg', LinearRegression())
])





pl.fit(tips_cat, tips['tip'])





pl.predict(tips_cat.iloc[:5])








pl.named_steps


pl.named_steps['one-hot'].transform(tips_cat).toarray()


pl.named_steps['one-hot'].get_feature_names_out()


pl.named_steps['lin-reg'].coef_





# Why is this so low?
pl.score(tips_cat, tips['tip'])














from sklearn.compose import ColumnTransformer





tips_features = tips.drop('tip', axis=1)
tips_features.head()

















preproc = ColumnTransformer(
    transformers=[
        ('size', Binarizer(threshold=2), ['size']),
        ('categorical_cols', OneHotEncoder(), ['sex', 'smoker', 'day', 'time'])
    ],
    remainder='passthrough' # Specify what to do with all other columns ('total_bill' here) – drop or passthrough.
)





pl = Pipeline([
    ('preprocessor', preproc), 
    ('lin-reg', LinearRegression())
])


pl.fit(tips_features, tips['tip'])





tips_features.head()


# Note that we fit the Pipeline using tips_features, not tips_features.head()!
pl.predict(tips_features.head())





from sklearn.preprocessing import FunctionTransformer


f = FunctionTransformer(np.sqrt)
f.transform([1, 2, 3])









