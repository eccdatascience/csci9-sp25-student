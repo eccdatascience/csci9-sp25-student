{
 "cells": [
  {
   "cell_type": "markdown",
   "metadata": {},
   "source": [
    "# Intro: Demo\n",
    "\n",
    "[Acknowledgments Page](https://ds100.org/sp24/acks/)"
   ]
  },
  {
   "cell_type": "markdown",
   "metadata": {},
   "source": [
    "## Software Packages \n",
    "We will be using a wide range of different Python software packages.  To install and manage these packages we will be using the Conda environment manager.  The following is a list of packages we will routinely use in lectures and homeworks:"
   ]
  },
  {
   "cell_type": "code",
   "execution_count": null,
   "metadata": {},
   "outputs": [],
   "source": [
    "# Linear algebra, probability\n",
    "import numpy as np\n",
    "\n",
    "# Data manipulation\n",
    "import pandas as pd\n",
    "\n",
    "# Visualization\n",
    "import matplotlib.pyplot as plt\n",
    "import seaborn as sns\n",
    "\n",
    "# Interactive visualization library\n",
    "import plotly.offline as py\n",
    "py.init_notebook_mode(connected=True)\n",
    "import plotly.graph_objs as go\n",
    "import plotly.figure_factory as ff\n",
    "import plotly.express as px"
   ]
  },
  {
   "cell_type": "markdown",
   "metadata": {},
   "source": [
    "We will learn how to use all of the technologies used in this demo.\n",
    "\n",
    "For now, just sit back and think critically about the data and our guided analysis."
   ]
  },
  {
   "cell_type": "markdown",
   "metadata": {},
   "source": [
    "# 1. Starting with a Question: **Who are the students of Data 100?**\n",
    "\n",
    "<img src=\"images/ask.png\" width=\"300px\" />\n",
    "\n",
    "This is a pretty vague question but let's start with the goal of learning something about the students in the class.\n",
    "\n",
    "Here are some \"simple\" questions:\n",
    "1. How many students do we have?\n",
    "1. What are your majors?\n",
    "1. What year are you?\n",
    "1. How did your major enrollment trend change over time?\n"
   ]
  },
  {
   "cell_type": "markdown",
   "metadata": {},
   "source": [
    "# 2. Data Acquisition and Cleaning \n",
    "\n",
    "**In Data 100 we will study various methods to collect data.**\n",
    "\n",
    "<img src=\"images/data_acquisition.PNG\" width=\"300px\" />\n",
    "\n",
    "To answer this question, I downloaded the course roster and extracted everyone's names and majors."
   ]
  },
  {
   "cell_type": "code",
   "execution_count": null,
   "metadata": {},
   "outputs": [],
   "source": [
    "# pd stands for pandas, which we will learn starting from next lecture\n",
    "# Some pandas syntax shared with data8's datascience package\n",
    "majors = pd.read_csv(\"data/majors-sp24.csv\")\n",
    "names = pd.read_csv(\"data/names-sp24.csv\")"
   ]
  },
  {
   "cell_type": "markdown",
   "metadata": {},
   "source": [
    "# 3. Exploratory Data Analysis\n",
    "\n",
    "**In Data 100 we will study exploratory data analysis and practice analyzing new datasets.**\n",
    "\n",
    "<img src=\"images/understand_data.PNG\" width=\"300px\" />\n",
    "\n",
    "I didn't tell you the details of the data! Let's check out the data and infer its structure. Then we can start answering the simple questions we posed."
   ]
  },
  {
   "cell_type": "markdown",
   "metadata": {},
   "source": [
    "### Peeking at the Data"
   ]
  },
  {
   "cell_type": "code",
   "execution_count": null,
   "metadata": {},
   "outputs": [],
   "source": [
    "# Let's peek at the first 20 rows of the majors dataframe\n",
    "\n",
    "majors.head(20)"
   ]
  },
  {
   "cell_type": "code",
   "execution_count": null,
   "metadata": {},
   "outputs": [],
   "source": [
    "# Let's peek at the first 5 rows (default) of the names dataframe\n",
    "\n",
    "names.head()"
   ]
  },
  {
   "cell_type": "markdown",
   "metadata": {},
   "source": [
    "### What is one potential issue we may need to address in this data?\n",
    "\n",
    "**Answer:**\n",
    "Some names appear capitalized. \n",
    "\n",
    "In the above sample we notice that some of the names are capitalized and some are not.  This will be an issue in our later analysis so let's convert all names to lower case."
   ]
  },
  {
   "cell_type": "code",
   "execution_count": null,
   "metadata": {},
   "outputs": [],
   "source": [
    "names['Name'] = names['Name'].str.lower()"
   ]
  },
  {
   "cell_type": "code",
   "execution_count": null,
   "metadata": {},
   "outputs": [],
   "source": [
    "names.head()"
   ]
  },
  {
   "cell_type": "markdown",
   "metadata": {},
   "source": [
    "### Exploratory Data Analysis on `names` dataset"
   ]
  },
  {
   "cell_type": "markdown",
   "metadata": {},
   "source": [
    "#### What is the most common first letter in names? What is its distribution? \n"
   ]
  },
  {
   "cell_type": "code",
   "execution_count": null,
   "metadata": {},
   "outputs": [],
   "source": [
    "# Below are the most common, in descending frequency\n",
    "\n",
    "first_letter = names['Name'].str[0].value_counts()\n",
    "first_letter.head()"
   ]
  },
  {
   "cell_type": "code",
   "execution_count": null,
   "metadata": {},
   "outputs": [],
   "source": [
    "# Let's visualize this first letter distribution \n",
    "\n",
    "plt.bar(first_letter.index, first_letter.values)\n",
    "plt.xlabel('First Letter')\n",
    "plt.ylabel('Frequency')\n",
    "plt.title('First Letter Frequency Distribution')\n",
    "plt.show()\n"
   ]
  },
  {
   "cell_type": "markdown",
   "metadata": {},
   "source": [
    "In the United States, \"J\" and \"A\" names are the most popular first initials. Seems like our visualization also reflects this!"
   ]
  },
  {
   "cell_type": "markdown",
   "metadata": {},
   "source": [
    "#### What is the distribution of the length of names? \n"
   ]
  },
  {
   "cell_type": "code",
   "execution_count": null,
   "metadata": {},
   "outputs": [],
   "source": [
    "name_lengths = names['Name'].str.len()\n",
    "\n",
    "plt.hist(name_lengths, bins=range(min(name_lengths), max(name_lengths) + 2), edgecolor='black')\n",
    "plt.xlabel('Name Length')\n",
    "plt.ylabel('Frequency')\n",
    "plt.title('Distribution of Length of Names')\n",
    "average_length = name_lengths.sum() / len(name_lengths)\n",
    "plt.axvline(average_length, color='red', linestyle='dashed', linewidth=1, label=f'Average: {average_length:.2f}')\n",
    "plt.legend()\n",
    "plt.xticks(range(min(name_lengths), max(name_lengths) + 1))\n",
    "plt.show()"
   ]
  },
  {
   "cell_type": "markdown",
   "metadata": {},
   "source": [
    "The average length of names in the United States is also around 6 letters!"
   ]
  },
  {
   "cell_type": "markdown",
   "metadata": {},
   "source": [
    "#### How many records do we have?"
   ]
  },
  {
   "cell_type": "code",
   "execution_count": null,
   "metadata": {},
   "outputs": [],
   "source": [
    "print(len(names))\n",
    "print(len(majors))"
   ]
  },
  {
   "cell_type": "markdown",
   "metadata": {},
   "source": [
    "Based on what we know of our class, each record is most likely a student."
   ]
  },
  {
   "cell_type": "markdown",
   "metadata": {},
   "source": [
    "#### Understanding the structure of data\n",
    "\n",
    "It is important that we understand the meaning of each field and how the data is organized."
   ]
  },
  {
   "cell_type": "code",
   "execution_count": null,
   "metadata": {},
   "outputs": [],
   "source": [
    "names.head()"
   ]
  },
  {
   "cell_type": "markdown",
   "metadata": {},
   "source": [
    "It appears that one student has an erroneous role given as \"#REF!\". What else can we learn about this student? Let's see their name."
   ]
  },
  {
   "cell_type": "code",
   "execution_count": null,
   "metadata": {},
   "outputs": [],
   "source": [
    "# Boolean index to find rows where Role is #REF!\n",
    "names[names['Name'] == \"#ref!\"]"
   ]
  },
  {
   "cell_type": "markdown",
   "metadata": {},
   "source": [
    "Though this single bad record won't have much of an impact on our analysis, we can clean our data by removing this record."
   ]
  },
  {
   "cell_type": "code",
   "execution_count": null,
   "metadata": {},
   "outputs": [],
   "source": [
    "names = names[names['Name'] != \"#ref!\"]"
   ]
  },
  {
   "cell_type": "markdown",
   "metadata": {},
   "source": [
    "**Double check**: Let's double check that our record removal only removed the single bad record."
   ]
  },
  {
   "cell_type": "code",
   "execution_count": null,
   "metadata": {},
   "outputs": [],
   "source": [
    "names['Name'].value_counts().to_frame()  # Again, counts of unique Roles"
   ]
  },
  {
   "cell_type": "markdown",
   "metadata": {},
   "source": [
    "Remember we loaded in two files. Let's explore the fields of `majors` and check for bad records:"
   ]
  },
  {
   "cell_type": "markdown",
   "metadata": {},
   "source": [
    "### Exploratory Data Analysis on `majors` dataset"
   ]
  },
  {
   "cell_type": "code",
   "execution_count": null,
   "metadata": {},
   "outputs": [],
   "source": [
    "majors.columns   # Get column names"
   ]
  },
  {
   "cell_type": "code",
   "execution_count": null,
   "metadata": {},
   "outputs": [],
   "source": [
    "majors['Terms in Attendance'].value_counts().to_frame()"
   ]
  },
  {
   "cell_type": "markdown",
   "metadata": {},
   "source": [
    "It looks like numbers represent semesters, `G` represents graduate students. But we do still have a bad record:"
   ]
  },
  {
   "cell_type": "code",
   "execution_count": null,
   "metadata": {},
   "outputs": [],
   "source": [
    "majors[majors['Terms in Attendance'] == \"#REF!\"]"
   ]
  },
  {
   "cell_type": "code",
   "execution_count": null,
   "metadata": {},
   "outputs": [],
   "source": [
    "majors = majors[majors['Terms in Attendance'] != \"#REF!\"]\n",
    "majors['Terms in Attendance'].value_counts().to_frame()"
   ]
  },
  {
   "cell_type": "markdown",
   "metadata": {},
   "source": [
    "Detail: The deleted `majors` record number is different from the record number of the bad `names` record. So while the number of records in each table matches, the row indices don't match, so we'll have to keep these tables separate in order to do our analysis."
   ]
  },
  {
   "cell_type": "markdown",
   "metadata": {},
   "source": [
    "### Summarizing the Data\n",
    "\n",
    "We will often want to numerically or visually summarize the data. The `describe()` method provides a brief high level description of our data frame. "
   ]
  },
  {
   "cell_type": "code",
   "execution_count": null,
   "metadata": {},
   "outputs": [],
   "source": [
    "names.describe()"
   ]
  },
  {
   "cell_type": "markdown",
   "metadata": {},
   "source": [
    "**Q: What do you think `top` and `freq` represent?**\n",
    "\n",
    "**Answer:** `top`: most frequent entry, `freq`: the frequency of that entry"
   ]
  },
  {
   "cell_type": "code",
   "execution_count": null,
   "metadata": {},
   "outputs": [],
   "source": [
    "majors.describe()"
   ]
  },
  {
   "cell_type": "markdown",
   "metadata": {},
   "source": [
    "---\n",
    "# 4. Analysis: Understanding the World\n",
    "\n",
    "<img src=\"images/understand_world.PNG\" width=\"300px\" />\n",
    "\n",
    "\n",
    "### What are your majors?"
   ]
  },
  {
   "cell_type": "markdown",
   "metadata": {},
   "source": [
    "What are the top majors:"
   ]
  },
  {
   "cell_type": "code",
   "execution_count": null,
   "metadata": {},
   "outputs": [],
   "source": [
    "majors_count = (       # Method chaining in pandas\n",
    "    majors['Majors']\n",
    "    .value_counts()\n",
    "    .sort_values(ascending=False) # Highest first\n",
    "    .to_frame()\n",
    "    .head(20)          # Get the top 20\n",
    ")\n",
    "\n",
    "majors_count"
   ]
  },
  {
   "cell_type": "markdown",
   "metadata": {},
   "source": [
    "### We will often use visualizations to make sense of data\n",
    "**In Data 100, we will deal with many different kinds of data (not just numbers) and we will study techniques to describe types of data.**\n",
    "\n",
    "**How can we summarize the Majors field?** A good starting point might be to use a bar plot:"
   ]
  },
  {
   "cell_type": "code",
   "execution_count": null,
   "metadata": {},
   "outputs": [],
   "source": [
    "# Interactive using plotly\n",
    "\n",
    "fig = px.bar(majors_count.loc[::-1], orientation='h')\n",
    "fig.update_layout(showlegend=False, \n",
    "                  xaxis_title='Count', \n",
    "                  yaxis_title='Major',\n",
    "                  autosize=False, \n",
    "                  width=800, \n",
    "                  height=500)"
   ]
  },
  {
   "cell_type": "markdown",
   "metadata": {},
   "source": [
    "### What year are you?"
   ]
  },
  {
   "cell_type": "code",
   "execution_count": null,
   "metadata": {},
   "outputs": [],
   "source": [
    "fig = px.histogram(majors['Terms in Attendance'].sort_values(),\n",
    "                   histnorm='probability')\n",
    "\n",
    "fig.update_layout(showlegend=False,\n",
    "                  xaxis_title=\"Term\",\n",
    "                  yaxis_title=\"Fraction of Class\",\n",
    "                  autosize=False, \n",
    "                  width=800, \n",
    "                  height=250)"
   ]
  },
  {
   "cell_type": "code",
   "execution_count": null,
   "metadata": {},
   "outputs": [],
   "source": [
    "# Replacing terms in attendance data with the degree objective\n",
    "majors.loc[majors.loc[:, 'Terms in Attendance'] != 'G', 'Terms in Attendance'] = 'Undergraduate'\n",
    "majors.loc[majors.loc[:, 'Terms in Attendance'] == 'G', 'Terms in Attendance'] = 'Graduate'\n",
    "\n",
    "\n",
    "majors.rename(columns={'Terms in Attendance': 'Ungrad Grad'}, inplace=True)\n",
    "\n",
    "majors.describe()"
   ]
  },
  {
   "cell_type": "markdown",
   "metadata": {},
   "source": [
    "# 1. New Questions\n",
    "\n",
    "- **What is the ratio between graduate and undergraduate students in Data 100, and how does it compare with campus distribution?**\n",
    "\n",
    "- **What is the proportion of different majors in Data 100, and how does it compare with historical campus trends?**\n",
    "\n",
    "<img src=\"images/ask.png\" width=\"300px\" />\n",
    "\n",
    "We often ask this question because we want to improve the data science program here in Berkeley, especially since it has now grown into a new college—[College of Computing, Data Science, and Society](https://data.berkeley.edu/)—Berkeley's first new college in 50 years."
   ]
  },
  {
   "cell_type": "markdown",
   "metadata": {},
   "source": [
    "\n",
    "\n",
    "## How could we answer this question?\n",
    "\n"
   ]
  },
  {
   "cell_type": "code",
   "execution_count": null,
   "metadata": {},
   "outputs": [],
   "source": [
    "print(majors.columns)\n",
    "print(names.columns)"
   ]
  },
  {
   "cell_type": "markdown",
   "metadata": {},
   "source": [
    "\n",
    "---\n",
    "\n",
    "## We don't have the data.\n",
    "\n",
    "Where can we get the data?\n",
    "\n",
    "<img src=\"images/data_acquisition.PNG\" width=\"300px\" />"
   ]
  },
  {
   "cell_type": "markdown",
   "metadata": {},
   "source": [
    "\n",
    "---\n",
    "\n",
    "# UC Berkeley Student Headcount by Major and Demographics\n",
    "\n",
    "\n",
    "[Data](https://pages.github.berkeley.edu/OPA/our-berkeley/student-headcount-by-major.html) comes from UC Berkeley's data warehouse reporting system, Cal Answers. Headcount figures are based on the Fall and Spring census snapshots, which occur at the end of the 5th week of the term."
   ]
  },
  {
   "cell_type": "markdown",
   "metadata": {
    "tags": []
   },
   "source": [
    "# 2. Acquire data programmatically\n",
    "\n",
    "Note 1: In the following, we download the data programmatically to ensure that the process is reproducible.\n",
    "\n",
    "Note 2: We also load the data directly into Python.\n",
    "\n",
    "**In Data 100 we will think a bit more about how we can be efficient in our data analysis to support processing large datasets.**"
   ]
  },
  {
   "cell_type": "code",
   "execution_count": null,
   "metadata": {},
   "outputs": [],
   "source": [
    "url = \"https://docs.google.com/spreadsheets/d/1J7tz3GQLs3M6hFseJCE9KhjVhe4vKga8Q2ezu0oG5sQ/gviz/tq?tqx=out:csv\"\n",
    "\n",
    "university_majors = pd.read_csv(url, \n",
    "                                usecols = ['Academic Yr', 'Semester', 'Ungrad Grad', \n",
    "                                           'Entry Status', 'Major Short Nm', 'Student Headcount'])"
   ]
  },
  {
   "cell_type": "markdown",
   "metadata": {},
   "source": [
    "# 3. Exploratory Data Analysis on Campus Data\n",
    "\n",
    "<img src=\"images/understand_data.PNG\" width=\"300px\" />\n"
   ]
  },
  {
   "cell_type": "code",
   "execution_count": null,
   "metadata": {},
   "outputs": [],
   "source": [
    "# Examining the data\n",
    "university_majors"
   ]
  },
  {
   "cell_type": "markdown",
   "metadata": {},
   "source": [
    "The data is reported on a semester basis. We will aggregate data across different semesters in a year by taking average of Fall and Spring semester enrollment information."
   ]
  },
  {
   "cell_type": "code",
   "execution_count": null,
   "metadata": {},
   "outputs": [],
   "source": [
    "# Reporting student data based on academic year\n",
    "university_majors = (university_majors.groupby(\n",
    "    ['Academic Yr', 'Ungrad Grad', 'Entry Status', 'Major Short Nm'], as_index = False)[[\"Student Headcount\"]]\n",
    "                     .mean()\n",
    "                    )\n",
    "\n",
    "university_majors"
   ]
  },
  {
   "cell_type": "markdown",
   "metadata": {},
   "source": [
    "## What is the historical distribution of graduate and undergraduate students at Berkeley? "
   ]
  },
  {
   "cell_type": "code",
   "execution_count": null,
   "metadata": {},
   "outputs": [],
   "source": [
    "university_grad_vs_ungrd = (university_majors.groupby(\n",
    "    ['Academic Yr', 'Ungrad Grad'], as_index = False)[[\"Student Headcount\"]]\n",
    "                            .sum()\n",
    "                           )\n",
    "\n",
    "proportions = university_grad_vs_ungrd.pivot(index='Academic Yr', columns='Ungrad Grad', values='Student Headcount')\n",
    "proportions['Total'] = proportions['Undergraduate'] + proportions['Graduate']\n",
    "proportions['Undergrad Proportion'] = proportions['Undergraduate'] / proportions['Total']\n",
    "proportions['Grad Proportion'] = proportions['Graduate'] / proportions['Total']\n",
    "\n",
    "\n",
    "fig = px.bar(proportions.reset_index(), \n",
    "             x='Academic Yr', \n",
    "             y=['Undergraduate', 'Graduate'],\n",
    "             title='Number of Grad vs. Undergrad Students',\n",
    "             labels={'value': 'Number of Students'},\n",
    "             color_discrete_map={'Undergraduate': 'blue', 'Graduate': 'orange'})\n",
    "\n",
    "fig.update_layout(barmode='relative', autosize=False, width=800, height=600)\n",
    "fig.show()\n"
   ]
  },
  {
   "cell_type": "markdown",
   "metadata": {},
   "source": [
    "# 4.1. Ratio between graduate and undergraduate students in Data 100, and its comparison with campus distribution"
   ]
  },
  {
   "cell_type": "code",
   "execution_count": null,
   "metadata": {},
   "outputs": [],
   "source": [
    "data100_grad = majors['Ungrad Grad'].loc[majors['Ungrad Grad'] == 'Graduate'].count()\n",
    "\n",
    "data100_undergrad = majors['Ungrad Grad'].loc[majors['Ungrad Grad'] == 'Undergraduate'].count()\n",
    "\n",
    "print(\"Number of graduate students in Data 100: \", data100_grad)\n",
    "print(\"Number of undergraduate students in Data 100: \", data100_undergrad)"
   ]
  },
  {
   "cell_type": "code",
   "execution_count": null,
   "metadata": {},
   "outputs": [],
   "source": [
    "data100_row = {'Graduate':[data100_grad], \n",
    "               'Undergraduate':[data100_undergrad], \n",
    "               'Total':[data100_grad + data100_undergrad], \n",
    "               'Undergrad Proportion':[data100_undergrad / (data100_grad + data100_undergrad)],\n",
    "               'Grad Proportion':[data100_grad / (data100_grad + data100_undergrad)], \n",
    "               }\n",
    "\n",
    "new_row_df = pd.DataFrame(data100_row)\n",
    "\n",
    "proportions.loc['Data 100'] = new_row_df.iloc[0]\n",
    "\n",
    "\n",
    "fig = px.bar(proportions.reset_index(), \n",
    "             x='Academic Yr', \n",
    "             y=['Undergrad Proportion', 'Grad Proportion'],\n",
    "             title='Proportions of Grad vs. Undergrad Students',\n",
    "             labels={'value': 'Proportion'},\n",
    "             color_discrete_map={'Undergrad Proportion': 'blue', 'Grad Proportion': 'orange'})\n",
    "\n",
    "\n",
    "fig.update_layout(barmode='relative', autosize=False, width=800, height=600)\n",
    "fig.show()"
   ]
  },
  {
   "cell_type": "markdown",
   "metadata": {},
   "source": [
    "# 4.2. Proportion of different majors in Data 100, and their historical emrollment trends"
   ]
  },
  {
   "cell_type": "code",
   "execution_count": null,
   "metadata": {},
   "outputs": [],
   "source": [
    "data100_top_20_majors = (       # Method chaining in pandas\n",
    "    majors['Majors']\n",
    "    .value_counts()\n",
    "    .sort_values(ascending=False) # Highest first\n",
    "    .to_frame()\n",
    "    .head(20)          # Get the top 20\n",
    ")\n",
    "\n",
    "major_trends = university_majors.groupby(['Academic Yr', 'Major Short Nm'], \n",
    "                                         as_index = False)[[\"Student Headcount\"]].sum()\n",
    "\n",
    "\n",
    "print(\"Top 20 majors at Berkeley in 2022-23\")\n",
    "major_trends[major_trends.loc[:, 'Academic Yr'] == '2022-23'].sort_values('Student Headcount', ascending=False).head(20)"
   ]
  },
  {
   "cell_type": "code",
   "execution_count": null,
   "metadata": {},
   "outputs": [],
   "source": [
    "print(\"Top 20 majors at Berkeley since 2013\")\n",
    "major_trends.groupby(['Major Short Nm'], as_index = False)[['Student Headcount']].sum().sort_values('Student Headcount', ascending=False).head(20)\n",
    "     "
   ]
  },
  {
   "cell_type": "code",
   "execution_count": null,
   "metadata": {},
   "outputs": [],
   "source": [
    "print(\"Top 20 majors at Berkeley in Data 100\")\n",
    "print(data100_top_20_majors)"
   ]
  },
  {
   "cell_type": "code",
   "execution_count": null,
   "metadata": {},
   "outputs": [],
   "source": [
    "data100_top_20_majors.index = data100_top_20_majors.index.str.rsplit(' ', n=1).str[0]\n",
    "print(\"Top 20 majors at Berkeley in Data 100\")\n",
    "print(data100_top_20_majors)"
   ]
  },
  {
   "cell_type": "code",
   "execution_count": null,
   "metadata": {},
   "outputs": [],
   "source": [
    "fig = px.line(major_trends[major_trends[\"Major Short Nm\"].isin(data100_top_20_majors.index)], \n",
    "                        x = \"Academic Yr\", y = \"Student Headcount\", color = \"Major Short Nm\")\n",
    "\n",
    "fig.update_layout(autosize=False, width=800, height=600)\n",
    "fig.show()    "
   ]
  },
  {
   "cell_type": "code",
   "execution_count": null,
   "metadata": {},
   "outputs": [],
   "source": [
    "data100_top_19_majors = data100_top_20_majors.iloc[1:,:]\n",
    "\n",
    "fig = px.line(major_trends[major_trends[\"Major Short Nm\"].isin(data100_top_19_majors.index)], \n",
    "                        x = \"Academic Yr\", y = \"Student Headcount\", color = \"Major Short Nm\")\n",
    "\n",
    "fig.update_layout(autosize=False, width=800, height=600)\n",
    "fig.show()  "
   ]
  }
 ],
 "metadata": {
  "kernelspec": {
   "display_name": "Python 3 (ipykernel)",
   "language": "python",
   "name": "python3"
  },
  "language_info": {
   "codemirror_mode": {
    "name": "ipython",
    "version": 3
   },
   "file_extension": ".py",
   "mimetype": "text/x-python",
   "name": "python",
   "nbconvert_exporter": "python",
   "pygments_lexer": "ipython3",
   "version": "3.9.7"
  }
 },
 "nbformat": 4,
 "nbformat_minor": 4
}
