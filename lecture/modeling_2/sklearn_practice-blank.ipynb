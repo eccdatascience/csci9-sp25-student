{
 "cells": [
  {
   "cell_type": "markdown",
   "id": "805ed1d4",
   "metadata": {},
   "source": [
    "# Scikit-Learn: Transformers and Pipelines"
   ]
  },
  {
   "cell_type": "code",
   "execution_count": null,
   "id": "ffc928f7",
   "metadata": {},
   "outputs": [],
   "source": [
    "# Import libraries\n",
    "%matplotlib inline\n",
    "import pandas as pd\n",
    "import numpy as np"
   ]
  },
  {
   "cell_type": "code",
   "execution_count": null,
   "id": "ef767dc1",
   "metadata": {},
   "outputs": [],
   "source": [
    "# Import cars.csv\n",
    "cars = pd.read_csv('data/cars.csv')\n",
    "cars.head()"
   ]
  },
  {
   "cell_type": "markdown",
   "id": "89eeb0ae",
   "metadata": {},
   "source": [
    "**Question 1** Using `Binarizer`, transform the `city-mpg` and `highway-mpg` column to 0 if the mpg is less than or equal to 25 and 1 if it's greater than 25."
   ]
  },
  {
   "cell_type": "code",
   "execution_count": null,
   "id": "7e191111",
   "metadata": {},
   "outputs": [],
   "source": [
    "# Import Binarizer"
   ]
  },
  {
   "cell_type": "code",
   "execution_count": null,
   "id": "e83b0f2a",
   "metadata": {},
   "outputs": [],
   "source": [
    "# Select columns\n",
    "X = ...\n",
    "\n",
    "# Initialize Binarizer\n",
    "binarizer = ...\n",
    "\n",
    "# Fit\n",
    "\n",
    "# Transform"
   ]
  },
  {
   "cell_type": "markdown",
   "id": "979798fd",
   "metadata": {},
   "source": [
    "**Question 2** Using `FunctionTransformer`, transform the `city-mpg` and `highway-mpg` columns to a log-scale."
   ]
  },
  {
   "cell_type": "code",
   "execution_count": null,
   "id": "af6c726c",
   "metadata": {},
   "outputs": [],
   "source": [
    "# Import FunctionTransformer"
   ]
  },
  {
   "cell_type": "code",
   "execution_count": null,
   "id": "081e8f21",
   "metadata": {},
   "outputs": [],
   "source": [
    "# Select columns\n",
    "X = ...\n",
    "\n",
    "# Initialize FunctionTransformer\n",
    "transformer = ...\n",
    "\n",
    "# Fit\n",
    "\n",
    "# Transform"
   ]
  },
  {
   "cell_type": "markdown",
   "id": "9bd221f6",
   "metadata": {},
   "source": [
    "**Question 3** Using `OneHotEncoder`, one-hot encode the `body-style` column."
   ]
  },
  {
   "cell_type": "code",
   "execution_count": null,
   "id": "d5060383",
   "metadata": {},
   "outputs": [],
   "source": [
    "# Import OneHotEncoder"
   ]
  },
  {
   "cell_type": "code",
   "execution_count": null,
   "id": "d6e1c318",
   "metadata": {},
   "outputs": [],
   "source": [
    "# Select column\n",
    "X = ...\n",
    "\n",
    "# Initialize OneHotEncoder\n",
    "ohe = ...\n",
    "\n",
    "# Fit\n",
    "\n",
    "# Transform"
   ]
  },
  {
   "cell_type": "code",
   "execution_count": null,
   "id": "59fb1b48",
   "metadata": {},
   "outputs": [],
   "source": [
    "# View output as array"
   ]
  },
  {
   "cell_type": "code",
   "execution_count": null,
   "id": "9d71d3b0",
   "metadata": {},
   "outputs": [],
   "source": [
    "# View names of one-hot encoded columns"
   ]
  },
  {
   "cell_type": "markdown",
   "id": "ac947b00",
   "metadata": {},
   "source": [
    "**Question 4** Using `ColumnTransformer`, create a transformer pipeline for the following transformations:\n",
    "\n",
    "- Transform quant features `wheel-base`, `length` and `width` using standard scaling\n",
    "- Transform ordinal features `num-of-doors` using ordinal encoder (or you can also perform replacement `{'two': 2, 'four': 4}`)\n",
    "- Transform nominal features `body-style`, `drive-wheels`, `engine-location`, `fuel-type` using one-hot encoder"
   ]
  },
  {
   "cell_type": "code",
   "execution_count": null,
   "id": "42d1fa57",
   "metadata": {},
   "outputs": [],
   "source": [
    "# Import classes"
   ]
  },
  {
   "cell_type": "code",
   "execution_count": null,
   "id": "d10e682c",
   "metadata": {},
   "outputs": [],
   "source": [
    "# List columns\n",
    "quantitative_cols = ...\n",
    "ordinal_cols = ...\n",
    "nominal_cols = ..."
   ]
  },
  {
   "cell_type": "code",
   "execution_count": null,
   "id": "75927d3e",
   "metadata": {},
   "outputs": [],
   "source": [
    "# Initialize Pipelines\n",
    "quantitative_pipeline = Pipeline([...])\n",
    "ordinal_pipeline = Pipeline([...])\n",
    "nominal_pipeline = Pipeline([...])"
   ]
  },
  {
   "cell_type": "code",
   "execution_count": null,
   "id": "74cc55c1",
   "metadata": {},
   "outputs": [],
   "source": [
    "# Initialize ColumnTransformer\n",
    "feature_eng_pipeline = ColumnTransformer([...])"
   ]
  },
  {
   "cell_type": "code",
   "execution_count": null,
   "id": "39de59a7",
   "metadata": {},
   "outputs": [],
   "source": [
    "# Fit and transform"
   ]
  },
  {
   "cell_type": "markdown",
   "id": "560efe6c",
   "metadata": {},
   "source": [
    "Put all of them together to build a linear regression model that models `price`. Fit the pipeline and predict with it."
   ]
  },
  {
   "cell_type": "code",
   "execution_count": null,
   "id": "f68ce607",
   "metadata": {},
   "outputs": [],
   "source": [
    "# Import classes"
   ]
  },
  {
   "cell_type": "code",
   "execution_count": null,
   "id": "68bd0f0f",
   "metadata": {},
   "outputs": [],
   "source": [
    "# Initialize Pipeline\n",
    "pipe = Pipeline([...])\n",
    "\n",
    "# Select X features\n",
    "X = ...\n",
    "\n",
    "# Select y features\n",
    "y = ...\n",
    "\n",
    "# Fit Pipeline"
   ]
  },
  {
   "cell_type": "code",
   "execution_count": null,
   "id": "cacf4af4",
   "metadata": {},
   "outputs": [],
   "source": [
    "# Predict"
   ]
  }
 ],
 "metadata": {
  "kernelspec": {
   "display_name": "Python 3 (ipykernel)",
   "language": "python",
   "name": "python3"
  },
  "language_info": {
   "codemirror_mode": {
    "name": "ipython",
    "version": 3
   },
   "file_extension": ".py",
   "mimetype": "text/x-python",
   "name": "python",
   "nbconvert_exporter": "python",
   "pygments_lexer": "ipython3",
   "version": "3.9.7"
  }
 },
 "nbformat": 4,
 "nbformat_minor": 5
}
