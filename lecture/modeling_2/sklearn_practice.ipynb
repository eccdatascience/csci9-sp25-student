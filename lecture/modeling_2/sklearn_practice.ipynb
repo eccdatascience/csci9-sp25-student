{
 "cells": [
  {
   "cell_type": "markdown",
   "id": "f14ae37e",
   "metadata": {},
   "source": [
    "# Scikit-Learn: Transformers and Pipelines"
   ]
  },
  {
   "cell_type": "code",
   "execution_count": null,
   "id": "ad9ab3de",
   "metadata": {},
   "outputs": [],
   "source": [
    "# Import libraries\n",
    "%matplotlib inline\n",
    "import pandas as pd\n",
    "import numpy as np"
   ]
  },
  {
   "cell_type": "code",
   "execution_count": null,
   "id": "08e1be96",
   "metadata": {},
   "outputs": [],
   "source": [
    "# Import cars.csv\n",
    "cars = pd.read_csv('data/cars.csv')\n",
    "cars.head()"
   ]
  },
  {
   "cell_type": "markdown",
   "id": "1056c457",
   "metadata": {},
   "source": [
    "**Question 1** Using `Binarizer`, transform the `city-mpg` and `highway-mpg` column to 0 if the mpg is less than or equal to 25 and 1 if it's greater than 25."
   ]
  },
  {
   "cell_type": "code",
   "execution_count": null,
   "id": "62ff7f42",
   "metadata": {},
   "outputs": [],
   "source": [
    "# Import Binarizer\n",
    "from sklearn.preprocessing import Binarizer"
   ]
  },
  {
   "cell_type": "code",
   "execution_count": null,
   "id": "35e97e45",
   "metadata": {
    "scrolled": true
   },
   "outputs": [],
   "source": [
    "# Select columns\n",
    "X = cars[['city-mpg', 'highway-mpg']]\n",
    "\n",
    "# Initialize Binarizer\n",
    "binarizer = Binarizer(threshold=25)\n",
    "\n",
    "# Fit\n",
    "# binarizer.fit(X)\n",
    "\n",
    "# Transform\n",
    "binarizer.transform(X)"
   ]
  },
  {
   "cell_type": "markdown",
   "id": "f42eeb0c",
   "metadata": {},
   "source": [
    "**Question 2** Using `FunctionTransformer`, transform the `city-mpg` and `highway-mpg` columns to a log-scale."
   ]
  },
  {
   "cell_type": "code",
   "execution_count": null,
   "id": "7b0f30e8",
   "metadata": {},
   "outputs": [],
   "source": [
    "# Import FunctionTransformer\n",
    "from sklearn.preprocessing import FunctionTransformer"
   ]
  },
  {
   "cell_type": "code",
   "execution_count": null,
   "id": "8a8aef27",
   "metadata": {},
   "outputs": [],
   "source": [
    "# Select columns\n",
    "X = cars[['city-mpg', 'highway-mpg']]\n",
    "\n",
    "# Initialize FunctionTransformer\n",
    "transformer = FunctionTransformer(np.log)\n",
    "\n",
    "# Fit\n",
    "# transformer.fit(X)\n",
    "\n",
    "# Transform\n",
    "transformer.transform(X)"
   ]
  },
  {
   "cell_type": "markdown",
   "id": "404fffac",
   "metadata": {},
   "source": [
    "**Question 3** Using `OneHotEncoder`, one-hot encode the `body-style` column."
   ]
  },
  {
   "cell_type": "code",
   "execution_count": null,
   "id": "c6fa16cd",
   "metadata": {},
   "outputs": [],
   "source": [
    "# Import OneHotEncoder\n",
    "from sklearn.preprocessing import OneHotEncoder"
   ]
  },
  {
   "cell_type": "code",
   "execution_count": null,
   "id": "d65a4abb",
   "metadata": {},
   "outputs": [],
   "source": [
    "# Select column\n",
    "X = cars[['body-style']]\n",
    "\n",
    "# Initialize OneHotEncoder\n",
    "ohe = OneHotEncoder() # handle_unknown='ignore'\n",
    "\n",
    "# Fit\n",
    "ohe.fit(X)\n",
    "\n",
    "# Transform\n",
    "ohe.transform(X)"
   ]
  },
  {
   "cell_type": "code",
   "execution_count": null,
   "id": "8f991573",
   "metadata": {
    "scrolled": true
   },
   "outputs": [],
   "source": [
    "# View output as array\n",
    "ohe.transform(X).toarray()"
   ]
  },
  {
   "cell_type": "code",
   "execution_count": null,
   "id": "148cc908",
   "metadata": {},
   "outputs": [],
   "source": [
    "# View names of one-hot encoded columns\n",
    "ohe.get_feature_names_out()\n",
    "# ohe.categories_"
   ]
  },
  {
   "cell_type": "markdown",
   "id": "74a395a3",
   "metadata": {},
   "source": [
    "**Question 4** Using `ColumnTransformer`, create a transformer pipeline for the following transformations:\n",
    "\n",
    "- Transform quant features `wheel-base`, `length` and `width` using standard scaling\n",
    "- Transform ordinal features `num-of-doors` using ordinal encoder (or you can also perform replacement `{'two': 2, 'four': 4}`)\n",
    "- Transform nominal features `body-style`, `drive-wheels`, `engine-location`, `fuel-type` using one-hot encoder"
   ]
  },
  {
   "cell_type": "code",
   "execution_count": null,
   "id": "4865bea2",
   "metadata": {},
   "outputs": [],
   "source": [
    "# Import classes\n",
    "from sklearn.preprocessing import StandardScaler\n",
    "from sklearn.preprocessing import OrdinalEncoder\n",
    "from sklearn.compose import ColumnTransformer\n",
    "from sklearn.pipeline import Pipeline"
   ]
  },
  {
   "cell_type": "code",
   "execution_count": null,
   "id": "7826a1a3",
   "metadata": {},
   "outputs": [],
   "source": [
    "# List columns\n",
    "quantitative_cols = ['wheel-base', 'length', 'width']\n",
    "ordinal_cols = ['num-of-doors']\n",
    "nominal_cols = ['body-style', 'drive-wheels', 'engine-location', 'fuel-type']"
   ]
  },
  {
   "cell_type": "code",
   "execution_count": null,
   "id": "e6ff2063",
   "metadata": {},
   "outputs": [],
   "source": [
    "# Define custom ordinal encoder\n",
    "def str_to_int(s):\n",
    "    return s.replace({'two': 2, 'four': 4})"
   ]
  },
  {
   "cell_type": "code",
   "execution_count": null,
   "id": "c37a32cf",
   "metadata": {},
   "outputs": [],
   "source": [
    "# Initialize Pipelines\n",
    "quantitative_pipeline = Pipeline([('std', StandardScaler())])\n",
    "ordinal_pipeline = Pipeline([('ord', OrdinalEncoder(categories=[['two','four']]))]) # FunctionTransformer(str_to_int)\n",
    "nominal_pipeline = Pipeline([('ohe', OneHotEncoder())])"
   ]
  },
  {
   "cell_type": "code",
   "execution_count": null,
   "id": "27030434",
   "metadata": {},
   "outputs": [],
   "source": [
    "# Initialize ColumnTransformer\n",
    "feature_eng_pipeline = ColumnTransformer([\n",
    "    ('quant', quantitative_pipeline, quantitative_cols),\n",
    "    ('ordinal', ordinal_pipeline, ordinal_cols),\n",
    "    ('nominal', nominal_pipeline, nominal_cols)\n",
    "])"
   ]
  },
  {
   "cell_type": "code",
   "execution_count": null,
   "id": "49c42f25",
   "metadata": {},
   "outputs": [],
   "source": [
    "# Fit and transform\n",
    "feature_eng_pipeline.fit_transform(cars)"
   ]
  },
  {
   "cell_type": "code",
   "execution_count": null,
   "id": "173093d5",
   "metadata": {
    "scrolled": true
   },
   "outputs": [],
   "source": [
    "# Check ordinal encoding\n",
    "feature_eng_pipeline.transformers_[1][1].transform(cars[['num-of-doors']])"
   ]
  },
  {
   "cell_type": "markdown",
   "id": "7b39231b",
   "metadata": {},
   "source": [
    "Put all of them together to build a linear regression model that models `price`. Fit the pipeline and predict with it."
   ]
  },
  {
   "cell_type": "code",
   "execution_count": null,
   "id": "5bdddc05",
   "metadata": {},
   "outputs": [],
   "source": [
    "# Import classes\n",
    "from sklearn.linear_model import LinearRegression"
   ]
  },
  {
   "cell_type": "code",
   "execution_count": null,
   "id": "3f8f4824",
   "metadata": {},
   "outputs": [],
   "source": [
    "# Initialize Pipeline\n",
    "pipe = Pipeline([\n",
    "    ('feat_eng', feature_eng_pipeline), \n",
    "    ('lr', LinearRegression())\n",
    "])\n",
    "\n",
    "# Select X features\n",
    "X = cars[quantitative_cols+ordinal_cols+nominal_cols]\n",
    "\n",
    "# Select y features\n",
    "y = cars['price']\n",
    "\n",
    "# Fit Pipeline\n",
    "pipe.fit(X, y)"
   ]
  },
  {
   "cell_type": "code",
   "execution_count": null,
   "id": "cdffe219",
   "metadata": {
    "scrolled": true
   },
   "outputs": [],
   "source": [
    "# Predict\n",
    "pipe.predict(X)"
   ]
  },
  {
   "cell_type": "code",
   "execution_count": null,
   "id": "3f543c7c",
   "metadata": {},
   "outputs": [],
   "source": [
    "# Evaluate model\n",
    "pipe.score(X, y)"
   ]
  },
  {
   "cell_type": "code",
   "execution_count": null,
   "id": "b23d6c5f",
   "metadata": {},
   "outputs": [],
   "source": [
    "pipe.named_steps"
   ]
  },
  {
   "cell_type": "code",
   "execution_count": null,
   "id": "9c380053",
   "metadata": {},
   "outputs": [],
   "source": []
  }
 ],
 "metadata": {
  "kernelspec": {
   "display_name": "Python 3 (ipykernel)",
   "language": "python",
   "name": "python3"
  },
  "language_info": {
   "codemirror_mode": {
    "name": "ipython",
    "version": 3
   },
   "file_extension": ".py",
   "mimetype": "text/x-python",
   "name": "python",
   "nbconvert_exporter": "python",
   "pygments_lexer": "ipython3",
   "version": "3.9.7"
  }
 },
 "nbformat": 4,
 "nbformat_minor": 5
}
